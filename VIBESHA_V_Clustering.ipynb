{
 "cells": [
  {
   "cell_type": "code",
   "execution_count": 2,
   "id": "e1d3944a-e399-4956-bd6e-0154c3dba681",
   "metadata": {},
   "outputs": [
    {
     "name": "stdout",
     "output_type": "stream",
     "text": [
      "<class 'pandas.core.frame.DataFrame'>\n",
      "RangeIndex: 200 entries, 0 to 199\n",
      "Data columns (total 4 columns):\n",
      " #   Column        Non-Null Count  Dtype \n",
      "---  ------        --------------  ----- \n",
      " 0   CustomerID    200 non-null    object\n",
      " 1   CustomerName  200 non-null    object\n",
      " 2   Region        200 non-null    object\n",
      " 3   SignupDate    200 non-null    object\n",
      "dtypes: object(4)\n",
      "memory usage: 6.4+ KB\n",
      "None\n",
      "<class 'pandas.core.frame.DataFrame'>\n",
      "RangeIndex: 1000 entries, 0 to 999\n",
      "Data columns (total 7 columns):\n",
      " #   Column           Non-Null Count  Dtype  \n",
      "---  ------           --------------  -----  \n",
      " 0   TransactionID    1000 non-null   object \n",
      " 1   CustomerID       1000 non-null   object \n",
      " 2   ProductID        1000 non-null   object \n",
      " 3   TransactionDate  1000 non-null   object \n",
      " 4   Quantity         1000 non-null   int64  \n",
      " 5   TotalValue       1000 non-null   float64\n",
      " 6   Price            1000 non-null   float64\n",
      "dtypes: float64(2), int64(1), object(4)\n",
      "memory usage: 54.8+ KB\n",
      "None\n",
      "  CustomerID        CustomerName         Region  SignupDate\n",
      "0      C0001    Lawrence Carroll  South America  2022-07-10\n",
      "1      C0002      Elizabeth Lutz           Asia  2022-02-13\n",
      "2      C0003      Michael Rivera  South America  2024-03-07\n",
      "3      C0004  Kathleen Rodriguez  South America  2022-10-09\n",
      "4      C0005         Laura Weber           Asia  2022-08-15\n",
      "  TransactionID CustomerID ProductID      TransactionDate  Quantity  \\\n",
      "0        T00001      C0199      P067  2024-08-25 12:38:23         1   \n",
      "1        T00112      C0146      P067  2024-05-27 22:23:54         1   \n",
      "2        T00166      C0127      P067  2024-04-25 07:38:55         1   \n",
      "3        T00272      C0087      P067  2024-03-26 22:55:37         2   \n",
      "4        T00363      C0070      P067  2024-03-21 15:10:10         3   \n",
      "\n",
      "   TotalValue   Price  \n",
      "0      300.68  300.68  \n",
      "1      300.68  300.68  \n",
      "2      300.68  300.68  \n",
      "3      601.36  300.68  \n",
      "4      902.04  300.68  \n"
     ]
    }
   ],
   "source": [
    "import pandas as pd\n",
    "\n",
    "# Load datasets\n",
    "customers = pd.read_csv('Customers.csv')\n",
    "transactions = pd.read_csv('Transactions.csv')\n",
    "\n",
    "# Explore data\n",
    "print(customers.info())\n",
    "print(transactions.info())\n",
    "print(customers.head())\n",
    "print(transactions.head())\n"
   ]
  },
  {
   "cell_type": "code",
   "execution_count": 3,
   "id": "5dd5daf8-4917-4455-a61c-7347896bc9f8",
   "metadata": {},
   "outputs": [
    {
     "name": "stdout",
     "output_type": "stream",
     "text": [
      "  CustomerID        CustomerName  SignupDate  total_spending  purchase_count  \\\n",
      "0      C0001    Lawrence Carroll  2022-07-10       -0.051884        0.000000   \n",
      "1      C0002      Elizabeth Lutz  2022-02-13       -0.862714       -0.451294   \n",
      "2      C0003      Michael Rivera  2024-03-07       -0.393842       -0.451294   \n",
      "3      C0004  Kathleen Rodriguez  2022-10-09        1.035375        1.353881   \n",
      "4      C0005         Laura Weber  2022-08-15       -0.769499       -0.902587   \n",
      "\n",
      "   avg_purchase_value  Region_Europe  Region_North America  \\\n",
      "0           -0.054781          False                 False   \n",
      "1           -0.903985          False                 False   \n",
      "2           -0.011575          False                 False   \n",
      "3           -0.061170          False                 False   \n",
      "4           -0.025086          False                 False   \n",
      "\n",
      "   Region_South America  \n",
      "0                  True  \n",
      "1                 False  \n",
      "2                  True  \n",
      "3                  True  \n",
      "4                 False  \n"
     ]
    }
   ],
   "source": [
    "# Aggregate transaction data\n",
    "transaction_features = transactions.groupby('CustomerID').agg(\n",
    "    total_spending=('TotalValue', 'sum'),\n",
    "    purchase_count=('TransactionID', 'count'),\n",
    "    avg_purchase_value=('TotalValue', 'mean')\n",
    ").reset_index()\n",
    "\n",
    "# Merge customer and transaction data\n",
    "merged_data = pd.merge(customers, transaction_features, on='CustomerID', how='left')\n",
    "\n",
    "# Handle missing values (if any)\n",
    "merged_data.fillna(0, inplace=True)\n",
    "\n",
    "# Normalize numerical features\n",
    "from sklearn.preprocessing import StandardScaler\n",
    "scaler = StandardScaler()\n",
    "numerical_features = ['total_spending', 'purchase_count', 'avg_purchase_value']\n",
    "merged_data[numerical_features] = scaler.fit_transform(merged_data[numerical_features])\n",
    "\n",
    "# Encode categorical features (e.g., Region)\n",
    "merged_data = pd.get_dummies(merged_data, columns=['Region'], drop_first=True)\n",
    "\n",
    "print(merged_data.head())\n"
   ]
  },
  {
   "cell_type": "code",
   "execution_count": 4,
   "id": "aa8097a1-5fd2-4637-8852-e8fb245a05cf",
   "metadata": {},
   "outputs": [
    {
     "name": "stdout",
     "output_type": "stream",
     "text": [
      "Cluster\n",
      "1    71\n",
      "2    44\n",
      "3    43\n",
      "0    42\n",
      "Name: count, dtype: int64\n"
     ]
    }
   ],
   "source": [
    "from sklearn.cluster import KMeans\n",
    "\n",
    "# Define the number of clusters (you can experiment with 2-10)\n",
    "n_clusters = 4\n",
    "kmeans = KMeans(n_clusters=n_clusters, random_state=42)\n",
    "merged_data['Cluster'] = kmeans.fit_predict(merged_data[numerical_features])\n",
    "\n",
    "print(merged_data['Cluster'].value_counts())\n"
   ]
  },
  {
   "cell_type": "code",
   "execution_count": 5,
   "id": "953bd5bc-7135-4073-80e6-31c72e2df70e",
   "metadata": {},
   "outputs": [
    {
     "name": "stdout",
     "output_type": "stream",
     "text": [
      "Davies-Bouldin Index: 1.0742466760923444\n",
      "Silhouette Score: 0.29989395957395887\n"
     ]
    }
   ],
   "source": [
    "from sklearn.metrics import davies_bouldin_score, silhouette_score\n",
    "\n",
    "# Calculate DB Index\n",
    "db_index = davies_bouldin_score(merged_data[numerical_features], merged_data['Cluster'])\n",
    "\n",
    "# Calculate Silhouette Score\n",
    "silhouette_avg = silhouette_score(merged_data[numerical_features], merged_data['Cluster'])\n",
    "\n",
    "print(f\"Davies-Bouldin Index: {db_index}\")\n",
    "print(f\"Silhouette Score: {silhouette_avg}\")\n"
   ]
  },
  {
   "cell_type": "code",
   "execution_count": 6,
   "id": "c1e7dd71-2b19-40ad-910f-426e2d7c795c",
   "metadata": {},
   "outputs": [
    {
     "data": {
      "image/png": "[encoded data removed]",
      "text/plain": [
       "<Figure size 800x600 with 1 Axes>"
      ]
     },
     "metadata": {},
     "output_type": "display_data"
    }
   ],
   "source": [
    "from sklearn.decomposition import PCA\n",
    "import matplotlib.pyplot as plt\n",
    "\n",
    "# Reduce to 2D for visualization\n",
    "pca = PCA(n_components=2)\n",
    "pca_features = pca.fit_transform(merged_data[numerical_features])\n",
    "\n",
    "# Plot clusters\n",
    "plt.figure(figsize=(8, 6))\n",
    "for cluster in range(n_clusters):\n",
    "    plt.scatter(\n",
    "        pca_features[merged_data['Cluster'] == cluster, 0],\n",
    "        pca_features[merged_data['Cluster'] == cluster, 1],\n",
    "        label=f'Cluster {cluster}'\n",
    "    )\n",
    "plt.title('Customer Clusters')\n",
    "plt.xlabel('PCA Feature 1')\n",
    "plt.ylabel('PCA Feature 2')\n",
    "plt.legend()\n",
    "plt.show()\n"
   ]
  },
  {
   "cell_type": "code",
   "execution_count": 7,
   "id": "e4f53b9f-5f57-473e-bea6-689e76172f62",
   "metadata": {},
   "outputs": [
    {
     "name": "stdout",
     "output_type": "stream",
     "text": [
      "         avg_spending  avg_purchase_count  customer_count\n",
      "Cluster                                                  \n",
      "0            1.323341            1.386116              42\n",
      "1           -0.682046           -0.203400              71\n",
      "2            0.557022           -0.030770              44\n",
      "3           -0.736372           -0.986549              43\n"
     ]
    }
   ],
   "source": [
    "# Analyze cluster characteristics\n",
    "cluster_summary = merged_data.groupby('Cluster').agg(\n",
    "    avg_spending=('total_spending', 'mean'),\n",
    "    avg_purchase_count=('purchase_count', 'mean'),\n",
    "    customer_count=('CustomerID', 'count')\n",
    ")\n",
    "\n",
    "print(cluster_summary)\n"
   ]
  },
  {
   "cell_type": "code",
   "execution_count": 8,
   "id": "20f74943-d36f-4f01-bb25-83fe9d38478c",
   "metadata": {},
   "outputs": [],
   "source": [
    "# Save the final data with clusters\n",
    "merged_data.to_csv('Clustered_Customers.csv', index=False)\n"
   ]
  },
  {
   "cell_type": "code",
   "execution_count": null,
   "id": "0e280c5e-6fa2-4684-b84a-405a1d91b653",
   "metadata": {},
   "outputs": [],
   "source": []
  }
 ],
 "metadata": {
  "kernelspec": {
   "display_name": "Python 3 (ipykernel)",
   "language": "python",
   "name": "python3"
  },
  "language_info": {
   "codemirror_mode": {
    "name": "ipython",
    "version": 3
   },
   "file_extension": ".py",
   "mimetype": "text/x-python",
   "name": "python",
   "nbconvert_exporter": "python",
   "pygments_lexer": "ipython3",
   "version": "3.11.4"
  }
 },
 "nbformat": 4,
 "nbformat_minor": 5
}
