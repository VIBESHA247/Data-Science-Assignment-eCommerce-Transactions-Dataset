{
 "cells": [
  {
   "cell_type": "code",
   "execution_count": 1,
   "id": "b89b58c7-414b-47d5-95aa-6c2a71d7281a",
   "metadata": {},
   "outputs": [
    {
     "name": "stdout",
     "output_type": "stream",
     "text": [
      "  CustomerID        CustomerName         Region  SignupDate\n",
      "0      C0001    Lawrence Carroll  South America  2022-07-10\n",
      "1      C0002      Elizabeth Lutz           Asia  2022-02-13\n",
      "2      C0003      Michael Rivera  South America  2024-03-07\n",
      "3      C0004  Kathleen Rodriguez  South America  2022-10-09\n",
      "4      C0005         Laura Weber           Asia  2022-08-15\n",
      "  ProductID              ProductName     Category   Price\n",
      "0      P001     ActiveWear Biography        Books  169.30\n",
      "1      P002    ActiveWear Smartwatch  Electronics  346.30\n",
      "2      P003  ComfortLiving Biography        Books   44.12\n",
      "3      P004            BookWorld Rug   Home Decor   95.69\n",
      "4      P005          TechPro T-Shirt     Clothing  429.31\n",
      "  TransactionID CustomerID ProductID      TransactionDate  Quantity  \\\n",
      "0        T00001      C0199      P067  2024-08-25 12:38:23         1   \n",
      "1        T00112      C0146      P067  2024-05-27 22:23:54         1   \n",
      "2        T00166      C0127      P067  2024-04-25 07:38:55         1   \n",
      "3        T00272      C0087      P067  2024-03-26 22:55:37         2   \n",
      "4        T00363      C0070      P067  2024-03-21 15:10:10         3   \n",
      "\n",
      "   TotalValue   Price  \n",
      "0      300.68  300.68  \n",
      "1      300.68  300.68  \n",
      "2      300.68  300.68  \n",
      "3      601.36  300.68  \n",
      "4      902.04  300.68  \n"
     ]
    }
   ],
   "source": [
    "import pandas as pd\n",
    "\n",
    "# Load datasets\n",
    "customers = pd.read_csv('Customers.csv')\n",
    "products = pd.read_csv('Products.csv')\n",
    "transactions = pd.read_csv('Transactions.csv')\n",
    "\n",
    "# Check the first few rows of the datasets to understand their structure\n",
    "print(customers.head())\n",
    "print(products.head())\n",
    "print(transactions.head())\n"
   ]
  },
  {
   "cell_type": "code",
   "execution_count": 2,
   "id": "1313ec40-e39f-4817-aba9-4e865248aa4a",
   "metadata": {},
   "outputs": [
    {
     "name": "stdout",
     "output_type": "stream",
     "text": [
      "  CustomerID  total_spending  purchase_frequency  avg_purchase_value  \\\n",
      "0      C0001       -0.061701           -0.011458           -0.070263   \n",
      "1      C0002       -0.877744           -0.467494           -0.934933   \n",
      "2      C0003       -0.405857           -0.467494           -0.026271   \n",
      "3      C0004        1.032547            1.356650           -0.076769   \n",
      "4      C0005       -0.783929           -0.923530           -0.040028   \n",
      "\n",
      "          Region  \n",
      "0  South America  \n",
      "1           Asia  \n",
      "2  South America  \n",
      "3  South America  \n",
      "4           Asia  \n"
     ]
    }
   ],
   "source": [
    "# Merge customer and transaction data\n",
    "merged_data = pd.merge(transactions, customers, on='CustomerID', how='left')\n",
    "\n",
    "# Feature engineering: Aggregating customer-level transaction features\n",
    "customer_features = merged_data.groupby('CustomerID').agg(\n",
    "    total_spending=('TotalValue', 'sum'),\n",
    "    purchase_frequency=('TransactionID', 'count'),\n",
    "    avg_purchase_value=('TotalValue', 'mean')\n",
    ").reset_index()\n",
    "\n",
    "# Merge customer profile information (e.g., region, signup date)\n",
    "customer_features = pd.merge(customer_features, customers[['CustomerID', 'Region']], on='CustomerID', how='left')\n",
    "\n",
    "# Normalize numerical features (standardize the data)\n",
    "from sklearn.preprocessing import StandardScaler\n",
    "scaler = StandardScaler()\n",
    "numerical_features = ['total_spending', 'purchase_frequency', 'avg_purchase_value']\n",
    "customer_features[numerical_features] = scaler.fit_transform(customer_features[numerical_features])\n",
    "\n",
    "print(customer_features.head())\n"
   ]
  },
  {
   "cell_type": "code",
   "execution_count": 3,
   "id": "a07326f0-dae5-4f56-8570-bcc6557858b9",
   "metadata": {},
   "outputs": [
    {
     "name": "stdout",
     "output_type": "stream",
     "text": [
      "[[ 1.          0.97368428  0.55235809 ...  0.81778127  0.96329967\n",
      "  -0.97957178]\n",
      " [ 0.97368428  1.          0.70863336 ...  0.9245182   0.99886722\n",
      "  -0.91989556]\n",
      " [ 0.55235809  0.70863336  1.         ...  0.917472    0.74140513\n",
      "  -0.38020974]\n",
      " ...\n",
      " [ 0.81778127  0.9245182   0.917472   ...  1.          0.94116243\n",
      "  -0.70106232]\n",
      " [ 0.96329967  0.99886722  0.74140513 ...  0.94116243  1.\n",
      "  -0.9005327 ]\n",
      " [-0.97957178 -0.91989556 -0.38020974 ... -0.70106232 -0.9005327\n",
      "   1.        ]]\n"
     ]
    }
   ],
   "source": [
    "from sklearn.metrics.pairwise import cosine_similarity\n",
    "\n",
    "# Calculate cosine similarity between customers based on the selected features\n",
    "similarity_matrix = cosine_similarity(customer_features[numerical_features])\n",
    "\n",
    "# Display similarity matrix\n",
    "print(similarity_matrix)\n"
   ]
  },
  {
   "cell_type": "code",
   "execution_count": 4,
   "id": "9b91fc1a-748f-45b2-8a9f-5a1de6e77a94",
   "metadata": {},
   "outputs": [
    {
     "name": "stdout",
     "output_type": "stream",
     "text": [
      "[('C0137', 0.9993600788417096), ('C0152', 0.9956575062125335), ('C0121', 0.9930123335059389)]\n"
     ]
    }
   ],
   "source": [
    "lookalikes = {}\n",
    "\n",
    "# For each of the first 20 customers (CustomerID: C0001 - C0020)\n",
    "for customer_id in customer_features['CustomerID'][:20]:\n",
    "    # Get the index of the current customer\n",
    "    idx = customer_features[customer_features['CustomerID'] == customer_id].index[0]\n",
    "    \n",
    "    # Get the similarity scores for this customer with all others\n",
    "    similarity_scores = list(enumerate(similarity_matrix[idx]))\n",
    "    \n",
    "    # Sort customers by similarity score and get the top 3 (excluding the current customer)\n",
    "    similarity_scores = sorted(similarity_scores, key=lambda x: x[1], reverse=True)\n",
    "    top_3_lookalikes = [(customer_features.iloc[i[0]]['CustomerID'], i[1]) for i in similarity_scores[1:4]]\n",
    "    \n",
    "    # Store the results\n",
    "    lookalikes[customer_id] = top_3_lookalikes\n",
    "\n",
    "# Print lookalikes for the first customer\n",
    "print(lookalikes['C0001'])\n"
   ]
  },
  {
   "cell_type": "code",
   "execution_count": 5,
   "id": "5dac57ab-b5b4-49d4-b435-613b2c3422e6",
   "metadata": {},
   "outputs": [
    {
     "name": "stdout",
     "output_type": "stream",
     "text": [
      "  CustomerID Lookalike_1   Score_1 Lookalike_2   Score_2 Lookalike_3   Score_3\n",
      "0      C0001       C0137  0.999360       C0152  0.995658       C0121  0.993012\n",
      "1      C0002       C0029  0.999638       C0199  0.998867       C0010  0.998831\n",
      "2      C0003       C0005  0.999894       C0178  0.999565       C0144  0.999217\n",
      "3      C0004       C0067  0.999991       C0021  0.999658       C0075  0.999288\n",
      "4      C0005       C0003  0.999894       C0073  0.999495       C0063  0.999259\n"
     ]
    }
   ],
   "source": [
    "# Prepare data to save to CSV\n",
    "lookalike_data = []\n",
    "for customer_id, recommendations in lookalikes.items():\n",
    "    row = [customer_id]\n",
    "    for rec in recommendations:\n",
    "        row.append(rec[0])  # Lookalike ID\n",
    "        row.append(rec[1])  # Similarity Score\n",
    "    lookalike_data.append(row)\n",
    "\n",
    "# Create a DataFrame and save it to CSV\n",
    "columns = ['CustomerID', 'Lookalike_1', 'Score_1', 'Lookalike_2', 'Score_2', 'Lookalike_3', 'Score_3']\n",
    "lookalike_df = pd.DataFrame(lookalike_data, columns=columns)\n",
    "lookalike_df.to_csv('Lookalike.csv', index=False)\n",
    "\n",
    "# Display the saved CSV file\n",
    "print(lookalike_df.head())\n"
   ]
  },
  {
   "cell_type": "code",
   "execution_count": null,
   "id": "6afeb8ad-384f-41e3-8605-1cd3e7ec83fe",
   "metadata": {},
   "outputs": [],
   "source": []
  }
 ],
 "metadata": {
  "kernelspec": {
   "display_name": "Python 3 (ipykernel)",
   "language": "python",
   "name": "python3"
  },
  "language_info": {
   "codemirror_mode": {
    "name": "ipython",
    "version": 3
   },
   "file_extension": ".py",
   "mimetype": "text/x-python",
   "name": "python",
   "nbconvert_exporter": "python",
   "pygments_lexer": "ipython3",
   "version": "3.11.4"
  }
 },
 "nbformat": 4,
 "nbformat_minor": 5
}
